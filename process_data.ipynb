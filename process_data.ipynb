{
 "cells": [
  {
   "cell_type": "markdown",
   "metadata": {},
   "source": [
    "## Récupérer les coordonnées des centres de distribution"
   ]
  },
  {
   "cell_type": "code",
   "execution_count": 63,
   "metadata": {},
   "outputs": [],
   "source": [
    "import pandas as pd\n",
    "\n",
    "df = pd.read_excel(\"data/centres.xlsx\")"
   ]
  },
  {
   "cell_type": "code",
   "execution_count": 64,
   "metadata": {},
   "outputs": [],
   "source": [
    "names_centres = df[\"Nom\"].tolist()\n",
    "adresses_centres = df[\"Adresse\"].tolist()"
   ]
  },
  {
   "cell_type": "code",
   "execution_count": 65,
   "metadata": {},
   "outputs": [],
   "source": [
    "import requests\n",
    "\n",
    "api_key = open(\"api_key\", \"r\").read()"
   ]
  },
  {
   "cell_type": "code",
   "execution_count": 66,
   "metadata": {},
   "outputs": [],
   "source": [
    "def get_coords(addresses):\n",
    "    latitudes = []\n",
    "    longitudes = []\n",
    "\n",
    "    for address in addresses:\n",
    "        response = requests.get(\n",
    "            f\"https://maps.googleapis.com/maps/api/geocode/json?address={address}&key={api_key}\"\n",
    "        )\n",
    "        data = response.json()\n",
    "\n",
    "        if data[\"status\"] == \"OK\":\n",
    "            location = data[\"results\"][0][\"geometry\"][\"location\"]\n",
    "            latitudes.append(location[\"lat\"])\n",
    "            longitudes.append(location[\"lng\"])\n",
    "        else:\n",
    "            print(f\"Geocoding failed for address {address}. Status:\", data[\"status\"])\n",
    "\n",
    "    return latitudes, longitudes"
   ]
  },
  {
   "cell_type": "code",
   "execution_count": 68,
   "metadata": {},
   "outputs": [],
   "source": [
    "latitudes, longitudes = get_coords(adresses_centres)"
   ]
  },
  {
   "cell_type": "code",
   "execution_count": 67,
   "metadata": {},
   "outputs": [],
   "source": [
    "# for n, lat, long in zip(names_centres, latitudes, longitudes) :\n",
    "#     print(    f\"{n} : {lat}, {long}\")"
   ]
  },
  {
   "cell_type": "code",
   "execution_count": 35,
   "metadata": {},
   "outputs": [],
   "source": [
    "# Add the latitudes as new columns into the original excel file\n",
    "df[\"Latitude\"] = latitudes\n",
    "df[\"Longitude\"] = longitudes"
   ]
  },
  {
   "cell_type": "code",
   "execution_count": 36,
   "metadata": {},
   "outputs": [],
   "source": [
    "df.to_excel(\"data/centres.xlsx\", index=False)"
   ]
  },
  {
   "cell_type": "markdown",
   "metadata": {},
   "source": [
    "## Récupérer les coordonnées des points de ramasse"
   ]
  },
  {
   "cell_type": "code",
   "execution_count": 70,
   "metadata": {},
   "outputs": [],
   "source": [
    "pdr = pd.read_excel(\"data/points_de_ramasse.xlsx\")\n",
    "adresses_pdr = pdr[\"Adresse\"].tolist()\n",
    "# latitudes, longitudes = get_coords(adresses)"
   ]
  },
  {
   "cell_type": "code",
   "execution_count": 11,
   "metadata": {},
   "outputs": [
    {
     "name": "stdout",
     "output_type": "stream",
     "text": [
      "43.6431035, 1.4160821\n",
      "43.6319261, 1.4843222\n",
      "43.5661466, 1.5171659\n",
      "43.5864191, 1.5776498\n",
      "43.644588, 1.3726111\n",
      "43.6666046, 1.514161\n",
      "43.5913663, 1.2960563\n"
     ]
    }
   ],
   "source": [
    "for lat, long in zip(latitudes, longitudes):\n",
    "    print(f\"{lat}, {long}\")"
   ]
  },
  {
   "cell_type": "code",
   "execution_count": 12,
   "metadata": {},
   "outputs": [],
   "source": [
    "pdr[\"Latitude\"] = latitudes\n",
    "pdr[\"Longitude\"] = longitudes\n",
    "pdr.to_excel(\"data/centres.xlsx\", sheet_name=\"Points de Ramasse\", index=False)"
   ]
  },
  {
   "cell_type": "markdown",
   "metadata": {},
   "source": [
    "## Créer la matrice de distances avec OSM"
   ]
  },
  {
   "cell_type": "code",
   "execution_count": 3,
   "metadata": {},
   "outputs": [],
   "source": [
    "import pandas as pd\n",
    "import requests, json\n",
    "from tqdm import tqdm\n",
    "\n",
    "centres = pd.read_excel(\"data/centres.xlsx\")\n",
    "pdrs = pd.read_excel(\"data/points_de_ramasse.xlsx\")\n",
    "\n",
    "lats = centres[\"Latitude\"].to_list() + pdrs[\"Latitude\"].to_list()\n",
    "longs = centres[\"Longitude\"].to_list() + pdrs[\"Longitude\"].to_list()"
   ]
  },
  {
   "cell_type": "code",
   "execution_count": 6,
   "metadata": {},
   "outputs": [
    {
     "name": "stderr",
     "output_type": "stream",
     "text": [
      "100%|██████████| 38/38 [00:37<00:00,  1.01it/s]\n"
     ]
    }
   ],
   "source": [
    "url = \"http://router.project-osrm.org/route/v1/driving/\"\n",
    "matrix = []\n",
    "for i in tqdm(range(len(lats))):\n",
    "    line = []\n",
    "    for j in range(len(lats) - 2, len(lats)):\n",
    "        o1 = str(longs[i]) + \",\" + str(lats[i])\n",
    "        o2 = str(longs[j]) + \",\" + str(lats[j])\n",
    "        x = o1 + \";\" + o2\n",
    "        response = requests.get(url + x)\n",
    "        data = json.loads(response.content)\n",
    "        distance = data[\"routes\"][0][\"legs\"][0][\"distance\"]\n",
    "        line.append(distance)\n",
    "    matrix.append(line)"
   ]
  },
  {
   "cell_type": "code",
   "execution_count": 23,
   "metadata": {},
   "outputs": [],
   "source": [
    "names_centres = centres[\"Nom\"].tolist() + pdrs[\"Nom\"].tolist()\n",
    "matrix_df = pd.DataFrame(matrix, columns=names_centres, index=names_centres)\n",
    "matrix_df.to_excel(\"data/matrix.xlsx\")"
   ]
  },
  {
   "cell_type": "code",
   "execution_count": 7,
   "metadata": {},
   "outputs": [],
   "source": [
    "def make_euclidean(matrix):\n",
    "    corrections = 0\n",
    "    for i in range(len(matrix)):\n",
    "        for j in range(len(matrix)):\n",
    "            if j == i:\n",
    "                continue\n",
    "            for k in range(len(matrix)):\n",
    "                if k == i or k == j:\n",
    "                    continue\n",
    "                if matrix.iloc[i, j] + matrix.iloc[j, k] < matrix.iloc[i, k]:\n",
    "                    corrections += 1\n",
    "                    matrix.iloc[i, k] = matrix.iloc[i, j] + matrix.iloc[j, k]\n",
    "    print(\"Failures : \", corrections)"
   ]
  },
  {
   "cell_type": "code",
   "execution_count": 26,
   "metadata": {},
   "outputs": [
    {
     "name": "stdout",
     "output_type": "stream",
     "text": [
      "Failures :  786\n"
     ]
    }
   ],
   "source": [
    "make_euclidean(matrix_df)\n",
    "matrix_df.to_excel(\"data/euclidean_matrix_2.xlsx\")\n",
    "matrix_df.to_csv(\"data/euclidean_matrix_2.csv\")"
   ]
  },
  {
   "cell_type": "markdown",
   "metadata": {},
   "source": [
    "## Créer la matrice de distances"
   ]
  },
  {
   "cell_type": "code",
   "execution_count": 72,
   "metadata": {},
   "outputs": [],
   "source": [
    "import googlemaps\n",
    "\n",
    "gmaps = googlemaps.Client(key=api_key)"
   ]
  },
  {
   "cell_type": "code",
   "execution_count": 77,
   "metadata": {},
   "outputs": [
    {
     "name": "stderr",
     "output_type": "stream",
     "text": [
      "100%|██████████| 36/36 [08:51<00:00, 14.78s/it]\n"
     ]
    }
   ],
   "source": [
    "from tqdm import tqdm\n",
    "\n",
    "matrix = []\n",
    "adresses = adresses_centres + adresses_pdr\n",
    "\n",
    "for i, a in tqdm(enumerate(adresses), total=len(adresses)):\n",
    "    matrix.append([])\n",
    "    for j, b in enumerate(adresses):\n",
    "        if i == j:\n",
    "            matrix[i].append(0)\n",
    "            continue\n",
    "\n",
    "        results = gmaps.directions(\n",
    "            a,\n",
    "            b,\n",
    "            alternatives=True,\n",
    "        )\n",
    "        results += gmaps.directions(\n",
    "            a,\n",
    "            b,\n",
    "            alternatives=True,\n",
    "            avoid=\"highways\",\n",
    "        )\n",
    "        results += gmaps.directions(\n",
    "            a,\n",
    "            b,\n",
    "            alternatives=True,\n",
    "            avoid=\"tolls\",\n",
    "        )\n",
    "        results += gmaps.directions(\n",
    "            a,\n",
    "            b,\n",
    "            alternatives=True,\n",
    "            avoid=\"tolls|highways\",\n",
    "        )\n",
    "        dist = min(res[\"legs\"][0][\"distance\"][\"value\"] for res in results)\n",
    "        matrix[i].append(dist)"
   ]
  },
  {
   "cell_type": "code",
   "execution_count": 24,
   "metadata": {},
   "outputs": [],
   "source": [
    "def make_euclidean(matrix):\n",
    "    corrections = 0\n",
    "    for i in range(len(matrix)):\n",
    "        for j in range(len(matrix)):\n",
    "            if j == i:\n",
    "                continue\n",
    "            for k in range(len(matrix)):\n",
    "                if k == i or k == j:\n",
    "                    continue\n",
    "                if matrix.iloc[i, j] + matrix.iloc[j, k] < matrix.iloc[i, k]:\n",
    "                    corrections += 1\n",
    "                    matrix.iloc[i, k] = matrix.iloc[i, j] + matrix.iloc[j, k]\n",
    "    print(\"Failures : \", corrections)"
   ]
  },
  {
   "cell_type": "code",
   "execution_count": 79,
   "metadata": {},
   "outputs": [
    {
     "name": "stdout",
     "output_type": "stream",
     "text": [
      "Failures :  610\n"
     ]
    }
   ],
   "source": [
    "noms = df[\"Nom\"].tolist() + pdr[\"Nom\"].tolist()\n",
    "mat = pd.DataFrame(matrix, columns=noms, index=noms)\n",
    "mat.to_excel(\"data/non_euclidean_matrix.xlsx\")\n",
    "make_euclidean(mat)\n",
    "mat.to_excel(\"data/euclidean_matrix.xlsx\")"
   ]
  },
  {
   "cell_type": "markdown",
   "metadata": {},
   "source": [
    "## Read  the performance data on week assignments"
   ]
  },
  {
   "cell_type": "code",
   "execution_count": 3,
   "metadata": {},
   "outputs": [
    {
     "name": "stdout",
     "output_type": "stream",
     "text": [
      "                  assignments     week1     week2     total\n",
      "0    (1, 2, 2, 1, 1, 1, 2, 2)  1721.290  1586.098  3307.388\n",
      "1    (1, 2, 2, 2, 1, 1, 2, 1)  1724.907  1624.825  3349.732\n",
      "2    (1, 2, 2, 1, 2, 2, 1, 2)  1652.529  1786.568  3439.097\n",
      "3    (1, 1, 1, 1, 2, 2, 2, 2)  1692.834  1637.828  3330.662\n",
      "4    (1, 1, 1, 1, 1, 2, 2, 2)  1714.329  1564.158  3278.487\n",
      "..                        ...       ...       ...       ...\n",
      "123  (1, 2, 2, 1, 2, 2, 2, 1)  1748.011  1715.253  3463.264\n",
      "124  (1, 1, 1, 2, 2, 2, 1, 1)  1744.964  1655.453  3400.417\n",
      "125  (1, 2, 1, 1, 1, 1, 1, 1)  2043.330  1537.133  3580.463\n",
      "126  (1, 2, 1, 1, 1, 1, 2, 2)  1913.007  1558.053  3471.060\n",
      "127  (1, 2, 2, 2, 1, 2, 1, 2)  1596.512  1822.740  3419.252\n",
      "\n",
      "[128 rows x 4 columns]\n"
     ]
    }
   ],
   "source": [
    "import pandas as pd\n",
    "\n",
    "assignments = pd.read_csv(\"data/assignments.csv\", index_col=0)\n",
    "print(assignments)"
   ]
  },
  {
   "cell_type": "code",
   "execution_count": 4,
   "metadata": {},
   "outputs": [],
   "source": [
    "assignments.sort_values(by=\"assignments\", inplace=True)"
   ]
  },
  {
   "cell_type": "code",
   "execution_count": 6,
   "metadata": {},
   "outputs": [
    {
     "name": "stdout",
     "output_type": "stream",
     "text": [
      "                  assignments     week1     week2     total\n",
      "41   (1, 1, 1, 1, 1, 1, 1, 1)  1892.076  1539.599  3431.675\n",
      "5    (1, 1, 1, 1, 1, 1, 1, 2)  1903.656  1360.742  3264.398\n",
      "98   (1, 1, 1, 1, 1, 1, 2, 1)  1922.197  1493.128  3415.325\n",
      "121  (1, 1, 1, 1, 1, 1, 2, 2)  1812.830  1496.939  3309.769\n",
      "101  (1, 1, 1, 1, 1, 2, 1, 1)  1799.419  1489.704  3289.123\n",
      "..                        ...       ...       ...       ...\n",
      "8    (1, 2, 2, 2, 2, 1, 2, 2)  1807.835  1565.279  3373.114\n",
      "67   (1, 2, 2, 2, 2, 2, 1, 1)  1718.547  1671.253  3389.800\n",
      "71   (1, 2, 2, 2, 2, 2, 1, 2)  1622.120  1767.746  3389.866\n",
      "15   (1, 2, 2, 2, 2, 2, 2, 1)  1599.843  1797.032  3396.875\n",
      "110  (1, 2, 2, 2, 2, 2, 2, 2)  1658.513  1919.684  3578.197\n",
      "\n",
      "[128 rows x 4 columns]\n"
     ]
    }
   ],
   "source": [
    "print(assignments)"
   ]
  },
  {
   "cell_type": "markdown",
   "metadata": {},
   "source": [
    "## Créer la matrice de temps de trajets"
   ]
  },
  {
   "cell_type": "code",
   "execution_count": 10,
   "metadata": {},
   "outputs": [],
   "source": [
    "import pandas as pd\n",
    "import requests, json\n",
    "from tqdm import tqdm\n",
    "\n",
    "centres = pd.read_excel(\"data/centres.xlsx\")\n",
    "pdrs = pd.read_excel(\"data/points_de_ramasse.xlsx\")\n",
    "\n",
    "lats = centres[\"Latitude\"].to_list() + pdrs[\"Latitude\"].to_list()\n",
    "longs = centres[\"Longitude\"].to_list() + pdrs[\"Longitude\"].to_list()"
   ]
  },
  {
   "cell_type": "code",
   "execution_count": 11,
   "metadata": {},
   "outputs": [
    {
     "name": "stderr",
     "output_type": "stream",
     "text": [
      "100%|██████████| 38/38 [01:13<00:00,  1.94s/it]\n"
     ]
    }
   ],
   "source": [
    "url = \"http://router.project-osrm.org/route/v1/driving/\"\n",
    "matrix = []\n",
    "for i in tqdm(range(len(lats))):\n",
    "    line = []\n",
    "    for j in range(len(longs)):\n",
    "        if i < len(lats) - 2 and j < len(lats) - 2:\n",
    "            line.append(0)\n",
    "            continue\n",
    "\n",
    "        o1 = str(longs[i]) + \",\" + str(lats[i])\n",
    "        o2 = str(longs[j]) + \",\" + str(lats[j])\n",
    "        x = o1 + \";\" + o2\n",
    "        response = requests.get(url + x)\n",
    "        data = json.loads(response.content)\n",
    "        duration = data[\"routes\"][0][\"legs\"][0][\"duration\"]\n",
    "        line.append(duration)\n",
    "    matrix.append(line)"
   ]
  },
  {
   "cell_type": "code",
   "execution_count": 12,
   "metadata": {},
   "outputs": [],
   "source": [
    "names_centres = centres[\"Nom\"].tolist() + pdrs[\"Nom\"].tolist()\n",
    "matrix_df = pd.DataFrame(matrix, columns=names_centres, index=names_centres)\n",
    "matrix_df.to_excel(\"data/new_duration_matrix.xlsx\")\n",
    "matrix_df = matrix_df * 1.5\n",
    "matrix_df.to_excel(\"data/new_duration_matrix_2.xlsx\")"
   ]
  },
  {
   "cell_type": "markdown",
   "metadata": {},
   "source": [
    "## Créer la matrice de temps de trajet pour une heure spécifique (heure de pointe)"
   ]
  },
  {
   "cell_type": "code",
   "execution_count": 8,
   "metadata": {},
   "outputs": [],
   "source": [
    "import googlemaps\n",
    "import requests\n",
    "import pandas as pd\n",
    "\n",
    "api_key = open(\"api_key\", \"r\").read()\n",
    "gmaps = googlemaps.Client(key=api_key)"
   ]
  },
  {
   "cell_type": "code",
   "execution_count": 9,
   "metadata": {},
   "outputs": [
    {
     "name": "stderr",
     "output_type": "stream",
     "text": [
      "  0%|          | 0/38 [00:00<?, ?it/s]\n"
     ]
    },
    {
     "ename": "ApiError",
     "evalue": "REQUEST_DENIED (You must enable Billing on the Google Cloud Project at https://console.cloud.google.com/project/_/billing/enable Learn more at https://developers.google.com/maps/gmp-get-started)",
     "output_type": "error",
     "traceback": [
      "\u001b[0;31m---------------------------------------------------------------------------\u001b[0m",
      "\u001b[0;31mApiError\u001b[0m                                  Traceback (most recent call last)",
      "Cell \u001b[0;32mIn[9], line 26\u001b[0m\n\u001b[1;32m     23\u001b[0m     matrix[i]\u001b[38;5;241m.\u001b[39mappend(\u001b[38;5;241m0\u001b[39m)\n\u001b[1;32m     24\u001b[0m     \u001b[38;5;28;01mcontinue\u001b[39;00m\n\u001b[0;32m---> 26\u001b[0m results \u001b[38;5;241m=\u001b[39m \u001b[43mgmaps\u001b[49m\u001b[38;5;241;43m.\u001b[39;49m\u001b[43mdirections\u001b[49m\u001b[43m(\u001b[49m\u001b[43ma\u001b[49m\u001b[43m,\u001b[49m\u001b[43m \u001b[49m\u001b[43mb\u001b[49m\u001b[43m,\u001b[49m\u001b[43m \u001b[49m\u001b[43malternatives\u001b[49m\u001b[38;5;241;43m=\u001b[39;49m\u001b[38;5;28;43;01mTrue\u001b[39;49;00m\u001b[43m,\u001b[49m\u001b[43m \u001b[49m\u001b[43mdeparture_time\u001b[49m\u001b[38;5;241;43m=\u001b[39;49m\u001b[43mpeak_hour\u001b[49m\u001b[43m)\u001b[49m\n\u001b[1;32m     27\u001b[0m duration \u001b[38;5;241m=\u001b[39m \u001b[38;5;28mmin\u001b[39m(\n\u001b[1;32m     28\u001b[0m     res[\u001b[38;5;124m\"\u001b[39m\u001b[38;5;124mlegs\u001b[39m\u001b[38;5;124m\"\u001b[39m][\u001b[38;5;241m0\u001b[39m][\u001b[38;5;124m\"\u001b[39m\u001b[38;5;124mduration_in_traffic\u001b[39m\u001b[38;5;124m\"\u001b[39m][\u001b[38;5;124m\"\u001b[39m\u001b[38;5;124mvalue\u001b[39m\u001b[38;5;124m\"\u001b[39m] \u001b[38;5;28;01mfor\u001b[39;00m res \u001b[38;5;129;01min\u001b[39;00m results\n\u001b[1;32m     29\u001b[0m )\n\u001b[1;32m     31\u001b[0m matrix[i]\u001b[38;5;241m.\u001b[39mappend(duration)\n",
      "File \u001b[0;32m~/.pyenv/versions/3.11.4/envs/restos/lib/python3.11/site-packages/googlemaps/client.py:445\u001b[0m, in \u001b[0;36mmake_api_method.<locals>.wrapper\u001b[0;34m(*args, **kwargs)\u001b[0m\n\u001b[1;32m    442\u001b[0m \u001b[38;5;129m@functools\u001b[39m\u001b[38;5;241m.\u001b[39mwraps(func)\n\u001b[1;32m    443\u001b[0m \u001b[38;5;28;01mdef\u001b[39;00m \u001b[38;5;21mwrapper\u001b[39m(\u001b[38;5;241m*\u001b[39margs, \u001b[38;5;241m*\u001b[39m\u001b[38;5;241m*\u001b[39mkwargs):\n\u001b[1;32m    444\u001b[0m     args[\u001b[38;5;241m0\u001b[39m]\u001b[38;5;241m.\u001b[39m_extra_params \u001b[38;5;241m=\u001b[39m kwargs\u001b[38;5;241m.\u001b[39mpop(\u001b[38;5;124m\"\u001b[39m\u001b[38;5;124mextra_params\u001b[39m\u001b[38;5;124m\"\u001b[39m, \u001b[38;5;28;01mNone\u001b[39;00m)\n\u001b[0;32m--> 445\u001b[0m     result \u001b[38;5;241m=\u001b[39m \u001b[43mfunc\u001b[49m\u001b[43m(\u001b[49m\u001b[38;5;241;43m*\u001b[39;49m\u001b[43margs\u001b[49m\u001b[43m,\u001b[49m\u001b[43m \u001b[49m\u001b[38;5;241;43m*\u001b[39;49m\u001b[38;5;241;43m*\u001b[39;49m\u001b[43mkwargs\u001b[49m\u001b[43m)\u001b[49m\n\u001b[1;32m    446\u001b[0m     \u001b[38;5;28;01mtry\u001b[39;00m:\n\u001b[1;32m    447\u001b[0m         \u001b[38;5;28;01mdel\u001b[39;00m args[\u001b[38;5;241m0\u001b[39m]\u001b[38;5;241m.\u001b[39m_extra_params\n",
      "File \u001b[0;32m~/.pyenv/versions/3.11.4/envs/restos/lib/python3.11/site-packages/googlemaps/directions.py:153\u001b[0m, in \u001b[0;36mdirections\u001b[0;34m(client, origin, destination, mode, waypoints, alternatives, avoid, language, units, region, departure_time, arrival_time, optimize_waypoints, transit_mode, transit_routing_preference, traffic_model)\u001b[0m\n\u001b[1;32m    150\u001b[0m \u001b[38;5;28;01mif\u001b[39;00m traffic_model:\n\u001b[1;32m    151\u001b[0m     params[\u001b[38;5;124m\"\u001b[39m\u001b[38;5;124mtraffic_model\u001b[39m\u001b[38;5;124m\"\u001b[39m] \u001b[38;5;241m=\u001b[39m traffic_model\n\u001b[0;32m--> 153\u001b[0m \u001b[38;5;28;01mreturn\u001b[39;00m \u001b[43mclient\u001b[49m\u001b[38;5;241;43m.\u001b[39;49m\u001b[43m_request\u001b[49m\u001b[43m(\u001b[49m\u001b[38;5;124;43m\"\u001b[39;49m\u001b[38;5;124;43m/maps/api/directions/json\u001b[39;49m\u001b[38;5;124;43m\"\u001b[39;49m\u001b[43m,\u001b[49m\u001b[43m \u001b[49m\u001b[43mparams\u001b[49m\u001b[43m)\u001b[49m\u001b[38;5;241m.\u001b[39mget(\u001b[38;5;124m\"\u001b[39m\u001b[38;5;124mroutes\u001b[39m\u001b[38;5;124m\"\u001b[39m, [])\n",
      "File \u001b[0;32m~/.pyenv/versions/3.11.4/envs/restos/lib/python3.11/site-packages/googlemaps/client.py:340\u001b[0m, in \u001b[0;36mClient._request\u001b[0;34m(self, url, params, first_request_time, retry_counter, base_url, accepts_clientid, extract_body, requests_kwargs, post_json)\u001b[0m\n\u001b[1;32m    338\u001b[0m     result \u001b[38;5;241m=\u001b[39m extract_body(response)\n\u001b[1;32m    339\u001b[0m \u001b[38;5;28;01melse\u001b[39;00m:\n\u001b[0;32m--> 340\u001b[0m     result \u001b[38;5;241m=\u001b[39m \u001b[38;5;28;43mself\u001b[39;49m\u001b[38;5;241;43m.\u001b[39;49m\u001b[43m_get_body\u001b[49m\u001b[43m(\u001b[49m\u001b[43mresponse\u001b[49m\u001b[43m)\u001b[49m\n\u001b[1;32m    341\u001b[0m \u001b[38;5;28mself\u001b[39m\u001b[38;5;241m.\u001b[39msent_times\u001b[38;5;241m.\u001b[39mappend(time\u001b[38;5;241m.\u001b[39mtime())\n\u001b[1;32m    342\u001b[0m \u001b[38;5;28;01mreturn\u001b[39;00m result\n",
      "File \u001b[0;32m~/.pyenv/versions/3.11.4/envs/restos/lib/python3.11/site-packages/googlemaps/client.py:369\u001b[0m, in \u001b[0;36mClient._get_body\u001b[0;34m(self, response)\u001b[0m\n\u001b[1;32m    365\u001b[0m \u001b[38;5;28;01mif\u001b[39;00m api_status \u001b[38;5;241m==\u001b[39m \u001b[38;5;124m\"\u001b[39m\u001b[38;5;124mOVER_QUERY_LIMIT\u001b[39m\u001b[38;5;124m\"\u001b[39m:\n\u001b[1;32m    366\u001b[0m     \u001b[38;5;28;01mraise\u001b[39;00m googlemaps\u001b[38;5;241m.\u001b[39mexceptions\u001b[38;5;241m.\u001b[39m_OverQueryLimit(\n\u001b[1;32m    367\u001b[0m         api_status, body\u001b[38;5;241m.\u001b[39mget(\u001b[38;5;124m\"\u001b[39m\u001b[38;5;124merror_message\u001b[39m\u001b[38;5;124m\"\u001b[39m))\n\u001b[0;32m--> 369\u001b[0m \u001b[38;5;28;01mraise\u001b[39;00m googlemaps\u001b[38;5;241m.\u001b[39mexceptions\u001b[38;5;241m.\u001b[39mApiError(api_status,\n\u001b[1;32m    370\u001b[0m                                      body\u001b[38;5;241m.\u001b[39mget(\u001b[38;5;124m\"\u001b[39m\u001b[38;5;124merror_message\u001b[39m\u001b[38;5;124m\"\u001b[39m))\n",
      "\u001b[0;31mApiError\u001b[0m: REQUEST_DENIED (You must enable Billing on the Google Cloud Project at https://console.cloud.google.com/project/_/billing/enable Learn more at https://developers.google.com/maps/gmp-get-started)"
     ]
    }
   ],
   "source": [
    "from tqdm import tqdm\n",
    "from time import time\n",
    "import datetime\n",
    "\n",
    "matrix = []\n",
    "df = pd.read_excel(\"data/centres.xlsx\")\n",
    "names_centres = df[\"Nom\"].tolist()\n",
    "adresses_centres = df[\"Adresse\"].tolist()\n",
    "pdr = pd.read_excel(\"data/points_de_ramasse.xlsx\")\n",
    "adresses_pdr = pdr[\"Adresse\"].tolist()\n",
    "adresses = adresses_centres + adresses_pdr\n",
    "\n",
    "peak_hour = int(datetime.datetime(2024, 2, 13, 8).timestamp())\n",
    "\n",
    "for i, a in tqdm(enumerate(adresses), total=len(adresses)):\n",
    "    matrix.append([])\n",
    "    for j, b in enumerate(adresses):\n",
    "        if i == j:\n",
    "            matrix[i].append(0)\n",
    "            continue\n",
    "\n",
    "        results = gmaps.directions(a, b, alternatives=True, departure_time=peak_hour)\n",
    "        duration = min(\n",
    "            res[\"legs\"][0][\"duration_in_traffic\"][\"value\"] for res in results\n",
    "        )\n",
    "\n",
    "        matrix[i].append(duration)"
   ]
  },
  {
   "cell_type": "code",
   "execution_count": 28,
   "metadata": {},
   "outputs": [],
   "source": [
    "noms = df[\"Nom\"].tolist() + pdr[\"Nom\"].tolist()\n",
    "mat = pd.DataFrame(matrix, columns=noms, index=noms)\n",
    "mat.to_excel(\"data/duration_matrix_w_traffic.xlsx\")"
   ]
  }
 ],
 "metadata": {
  "kernelspec": {
   "display_name": "ortools",
   "language": "python",
   "name": "python3"
  },
  "language_info": {
   "codemirror_mode": {
    "name": "ipython",
    "version": 3
   },
   "file_extension": ".py",
   "mimetype": "text/x-python",
   "name": "python",
   "nbconvert_exporter": "python",
   "pygments_lexer": "ipython3",
   "version": "3.11.4"
  }
 },
 "nbformat": 4,
 "nbformat_minor": 2
}
