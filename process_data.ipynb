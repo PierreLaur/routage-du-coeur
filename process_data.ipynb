{
 "cells": [
  {
   "cell_type": "markdown",
   "metadata": {},
   "source": [
    "## Récupérer les coordonnées des centres de distribution"
   ]
  },
  {
   "cell_type": "code",
   "execution_count": 63,
   "metadata": {},
   "outputs": [],
   "source": [
    "import pandas as pd\n",
    "\n",
    "df = pd.read_excel(\"data/centres.xlsx\")"
   ]
  },
  {
   "cell_type": "code",
   "execution_count": 64,
   "metadata": {},
   "outputs": [],
   "source": [
    "names_centres = df[\"Nom\"].tolist()\n",
    "adresses_centres = df[\"Adresse\"].tolist()"
   ]
  },
  {
   "cell_type": "code",
   "execution_count": 65,
   "metadata": {},
   "outputs": [],
   "source": [
    "import requests\n",
    "\n",
    "api_key = open(\"api_key\", \"r\").read()"
   ]
  },
  {
   "cell_type": "code",
   "execution_count": 66,
   "metadata": {},
   "outputs": [],
   "source": [
    "def get_coords(addresses):\n",
    "    latitudes = []\n",
    "    longitudes = []\n",
    "\n",
    "    for address in addresses:\n",
    "        response = requests.get(\n",
    "            f\"https://maps.googleapis.com/maps/api/geocode/json?address={address}&key={api_key}\"\n",
    "        )\n",
    "        data = response.json()\n",
    "\n",
    "        if data[\"status\"] == \"OK\":\n",
    "            location = data[\"results\"][0][\"geometry\"][\"location\"]\n",
    "            latitudes.append(location[\"lat\"])\n",
    "            longitudes.append(location[\"lng\"])\n",
    "        else:\n",
    "            print(f\"Geocoding failed for address {address}. Status:\", data[\"status\"])\n",
    "    \n",
    "    return latitudes, longitudes"
   ]
  },
  {
   "cell_type": "code",
   "execution_count": 68,
   "metadata": {},
   "outputs": [],
   "source": [
    "\n",
    "latitudes, longitudes = get_coords(adresses_centres)"
   ]
  },
  {
   "cell_type": "code",
   "execution_count": 67,
   "metadata": {},
   "outputs": [],
   "source": [
    "# for n, lat, long in zip(names_centres, latitudes, longitudes) :\n",
    "#     print(    f\"{n} : {lat}, {long}\")"
   ]
  },
  {
   "cell_type": "code",
   "execution_count": 35,
   "metadata": {},
   "outputs": [],
   "source": [
    "# Add the latitudes as new columns into the original excel file\n",
    "df[\"Latitude\"] = latitudes\n",
    "df[\"Longitude\"] = longitudes"
   ]
  },
  {
   "cell_type": "code",
   "execution_count": 36,
   "metadata": {},
   "outputs": [],
   "source": [
    "df.to_excel(\"data/centres.xlsx\", index=False)"
   ]
  },
  {
   "cell_type": "markdown",
   "metadata": {},
   "source": [
    "## Récupérer les coordonnées des points de ramasse"
   ]
  },
  {
   "cell_type": "code",
   "execution_count": 70,
   "metadata": {},
   "outputs": [],
   "source": [
    "pdr = pd.read_excel(\"data/points_de_ramasse.xlsx\")\n",
    "adresses_pdr = pdr[\"Adresse\"].tolist()\n",
    "# latitudes, longitudes = get_coords(adresses)"
   ]
  },
  {
   "cell_type": "code",
   "execution_count": 11,
   "metadata": {},
   "outputs": [
    {
     "name": "stdout",
     "output_type": "stream",
     "text": [
      "43.6431035, 1.4160821\n",
      "43.6319261, 1.4843222\n",
      "43.5661466, 1.5171659\n",
      "43.5864191, 1.5776498\n",
      "43.644588, 1.3726111\n",
      "43.6666046, 1.514161\n",
      "43.5913663, 1.2960563\n"
     ]
    }
   ],
   "source": [
    "for lat, long in zip(latitudes, longitudes) :\n",
    "    print(    f\"{lat}, {long}\")"
   ]
  },
  {
   "cell_type": "code",
   "execution_count": 12,
   "metadata": {},
   "outputs": [],
   "source": [
    "pdr[\"Latitude\"] = latitudes\n",
    "pdr[\"Longitude\"] = longitudes\n",
    "pdr.to_excel(\"data/centres.xlsx\", sheet_name=\"Points de Ramasse\", index=False)"
   ]
  },
  {
   "cell_type": "markdown",
   "metadata": {},
   "source": [
    "## Créer la matrice de distances avec OSM"
   ]
  },
  {
   "cell_type": "code",
   "execution_count": 20,
   "metadata": {},
   "outputs": [
    {
     "name": "stdout",
     "output_type": "stream",
     "text": [
      "[43.6391233, 43.3518938, 42.7911527, 43.8006816, 43.6467573, 43.2971934, 43.2103963, 43.5347748, 43.517648, 43.6848225, 43.5389381, 43.8381611, 43.376577, 43.599054, 43.66709549999999, 43.0846413, 43.47820900000001, 43.6218265, 43.567516, 43.5418696, 43.45654649999999, 43.4133038, 43.106199, 43.0834612, 43.60352750000001, 43.56513890000001, 43.5928408, 43.5771751, 43.40153, 43.6431035, 43.6319261, 43.5661466, 43.5864191, 43.644588, 43.6666046, 43.5913663]\n"
     ]
    }
   ],
   "source": [
    "import pandas, requests, json\n",
    "from tqdm import tqdm\n",
    "\n",
    "centres = pd.read_excel(\"data/centres.xlsx\")\n",
    "pdrs = pd.read_excel(\"data/points_de_ramasse.xlsx\")\n",
    "\n",
    "lats = centres[\"Latitude\"].to_list() + pdrs[\"Latitude\"].to_list()\n",
    "longs = centres[\"Longitude\"].to_list() + pdrs[\"Longitude\"].to_list()"
   ]
  },
  {
   "cell_type": "code",
   "execution_count": 21,
   "metadata": {},
   "outputs": [
    {
     "name": "stderr",
     "output_type": "stream",
     "text": [
      "100%|██████████| 36/36 [10:48<00:00, 18.02s/it]\n"
     ]
    }
   ],
   "source": [
    "url = 'http://router.project-osrm.org/route/v1/driving/'\n",
    "matrix = []\n",
    "for i in tqdm(range(len(lats))):\n",
    "    line = []\n",
    "    for j in range(len(longs)) :\n",
    "        o1 = str(longs[i]) +',' + str(lats[i])\n",
    "        o2 = str(longs[j]) +',' + str(lats[j])\n",
    "        x = o1 + ';' + o2\n",
    "        response = requests.get(url+x)\n",
    "        data = json.loads(response.content)\n",
    "        distance = data[\"routes\"][0][\"legs\"][0][\"distance\"]\n",
    "        line.append(distance)\n",
    "    matrix.append(line)"
   ]
  },
  {
   "cell_type": "code",
   "execution_count": 23,
   "metadata": {},
   "outputs": [],
   "source": [
    "names_centres = centres[\"Nom\"].tolist() + pdrs[\"Nom\"].tolist()\n",
    "matrix_df = pd.DataFrame(matrix, columns=names_centres, index=names_centres)\n",
    "matrix_df.to_excel(\"data/matrix.xlsx\")\n",
    "matrix_df.to_csv(\"data/matrix.csv\")"
   ]
  },
  {
   "cell_type": "code",
   "execution_count": 7,
   "metadata": {},
   "outputs": [],
   "source": [
    "def make_euclidean(matrix):\n",
    "    corrections = 0\n",
    "    for i in range(len(matrix)):\n",
    "        for j in range(len(matrix)):\n",
    "            if j == i:\n",
    "                continue\n",
    "            for k in range(len(matrix)):\n",
    "                if k == i or k == j:\n",
    "                    continue\n",
    "                if matrix.iloc[i, j] + matrix.iloc[j, k] < matrix.iloc[i, k]:\n",
    "                    corrections += 1\n",
    "                    matrix.iloc[i, k] = matrix.iloc[i, j] + matrix.iloc[j, k]\n",
    "    print(\"Failures : \", corrections)"
   ]
  },
  {
   "cell_type": "code",
   "execution_count": 26,
   "metadata": {},
   "outputs": [
    {
     "name": "stdout",
     "output_type": "stream",
     "text": [
      "Failures :  786\n"
     ]
    }
   ],
   "source": [
    "make_euclidean(matrix_df)\n",
    "matrix_df.to_excel(\"data/euclidean_matrix_2.xlsx\")\n",
    "matrix_df.to_csv(\"data/euclidean_matrix_2.csv\")"
   ]
  },
  {
   "cell_type": "markdown",
   "metadata": {},
   "source": [
    "## Créer la matrice de distances"
   ]
  },
  {
   "cell_type": "code",
   "execution_count": 72,
   "metadata": {},
   "outputs": [],
   "source": [
    "import googlemaps\n",
    "\n",
    "gmaps = googlemaps.Client(key=api_key)"
   ]
  },
  {
   "cell_type": "code",
   "execution_count": 77,
   "metadata": {},
   "outputs": [
    {
     "name": "stderr",
     "output_type": "stream",
     "text": [
      "100%|██████████| 36/36 [08:51<00:00, 14.78s/it]\n"
     ]
    }
   ],
   "source": [
    "from tqdm import tqdm\n",
    "\n",
    "matrix = []\n",
    "adresses = adresses_centres + adresses_pdr\n",
    "\n",
    "for i, a in tqdm(enumerate(adresses), total=len(adresses)):\n",
    "    matrix.append([])\n",
    "    for j, b in enumerate(adresses):\n",
    "        if i==j :\n",
    "            matrix[i].append(0)\n",
    "            continue\n",
    "        \n",
    "        results = gmaps.directions(a, b, alternatives=True,)\n",
    "        results += gmaps.directions(a, b, alternatives=True, avoid=\"highways\",)\n",
    "        results += gmaps.directions(a, b, alternatives=True, avoid=\"tolls\",)\n",
    "        results += gmaps.directions(a, b, alternatives=True, avoid=\"tolls|highways\",)\n",
    "        dist = min(\n",
    "            res[\"legs\"][0][\"distance\"][\"value\"] for res in results\n",
    "        )\n",
    "        matrix[i].append(dist)"
   ]
  },
  {
   "cell_type": "code",
   "execution_count": 24,
   "metadata": {},
   "outputs": [],
   "source": [
    "def make_euclidean(matrix):\n",
    "    corrections = 0\n",
    "    for i in range(len(matrix)):\n",
    "        for j in range(len(matrix)):\n",
    "            if j == i:\n",
    "                continue\n",
    "            for k in range(len(matrix)):\n",
    "                if k == i or k == j:\n",
    "                    continue\n",
    "                if matrix.iloc[i, j] + matrix.iloc[j, k] < matrix.iloc[i, k]:\n",
    "                    corrections += 1\n",
    "                    matrix.iloc[i, k] = matrix.iloc[i, j] + matrix.iloc[j, k]\n",
    "    print(\"Failures : \", corrections)"
   ]
  },
  {
   "cell_type": "code",
   "execution_count": 79,
   "metadata": {},
   "outputs": [
    {
     "name": "stdout",
     "output_type": "stream",
     "text": [
      "Failures :  610\n"
     ]
    }
   ],
   "source": [
    "noms = df[\"Nom\"].tolist() + pdr[\"Nom\"].tolist()\n",
    "mat = pd.DataFrame(matrix, columns=noms, index=noms)\n",
    "mat.to_excel(\"data/non_euclidean_matrix.xlsx\")\n",
    "make_euclidean(mat)\n",
    "mat.to_excel(\"data/euclidean_matrix.xlsx\")"
   ]
  },
  {
   "cell_type": "markdown",
   "metadata": {},
   "source": [
    "## Convert xlsx files to csv for Hexaly"
   ]
  },
  {
   "cell_type": "code",
   "execution_count": 1,
   "metadata": {},
   "outputs": [],
   "source": [
    "import pandas as pd\n",
    "\n",
    "centres = pd.read_excel(\"data/centres.xlsx\", index_col=0)\n",
    "centres.to_csv(\"data/centres.csv\", index=False)"
   ]
  },
  {
   "cell_type": "code",
   "execution_count": null,
   "metadata": {},
   "outputs": [],
   "source": [
    "centres = pd.read_excel(\"data/centres_adjust.xlsx\", index_col=0)\n",
    "centres.to_csv(\"data/centres_adjust.csv\", index=False)\n",
    "centres = pd.read_excel(\"data/centres_adjust_or_keep.xlsx\", index_col=0)\n",
    "centres.to_csv(\"data/centres_adjust_or_keep.csv\", index=False)\n",
    "centres = pd.read_excel(\"data/centres_keep.xlsx\", index_col=0)\n",
    "centres.to_csv(\"data/centres_keep.csv\", index=False)"
   ]
  },
  {
   "cell_type": "code",
   "execution_count": 2,
   "metadata": {},
   "outputs": [],
   "source": [
    "vehicles = pd.read_excel(\"data/vehicules.xlsx\")\n",
    "vehicles.to_csv(\"data/vehicules.csv\", index=False)"
   ]
  },
  {
   "cell_type": "code",
   "execution_count": 3,
   "metadata": {},
   "outputs": [],
   "source": [
    "matrix = pd.read_excel(\"data/euclidean_matrix.xlsx\")\n",
    "matrix.to_csv(\"data/euclidean_matrix.csv\", index=False)\n"
   ]
  },
  {
   "cell_type": "code",
   "execution_count": 4,
   "metadata": {},
   "outputs": [],
   "source": [
    "points_de_ramasse = pd.read_excel(\"data/points_de_ramasse.xlsx\")\n",
    "points_de_ramasse.to_csv(\"data/points_de_ramasse.csv\", index=False)"
   ]
  },
  {
   "cell_type": "code",
   "execution_count": 5,
   "metadata": {},
   "outputs": [],
   "source": [
    "duration_matrix = pd.read_excel(\"data/duration_matrix.xlsx\")\n",
    "duration_matrix.to_csv(\"data/duration_matrix.csv\", index=False)"
   ]
  },
  {
   "cell_type": "code",
   "execution_count": 3,
   "metadata": {},
   "outputs": [],
   "source": [
    "duration_matrix_w_traffic = pd.read_excel(\"data/duration_matrix_w_traffic.xlsx\")\n",
    "duration_matrix_w_traffic.to_csv(\"data/duration_matrix_w_traffic.csv\", index=False)"
   ]
  },
  {
   "cell_type": "markdown",
   "metadata": {},
   "source": [
    "## Read  the performance data on week assignments"
   ]
  },
  {
   "cell_type": "code",
   "execution_count": 3,
   "metadata": {},
   "outputs": [
    {
     "name": "stdout",
     "output_type": "stream",
     "text": [
      "                  assignments     week1     week2     total\n",
      "0    (1, 2, 2, 1, 1, 1, 2, 2)  1721.290  1586.098  3307.388\n",
      "1    (1, 2, 2, 2, 1, 1, 2, 1)  1724.907  1624.825  3349.732\n",
      "2    (1, 2, 2, 1, 2, 2, 1, 2)  1652.529  1786.568  3439.097\n",
      "3    (1, 1, 1, 1, 2, 2, 2, 2)  1692.834  1637.828  3330.662\n",
      "4    (1, 1, 1, 1, 1, 2, 2, 2)  1714.329  1564.158  3278.487\n",
      "..                        ...       ...       ...       ...\n",
      "123  (1, 2, 2, 1, 2, 2, 2, 1)  1748.011  1715.253  3463.264\n",
      "124  (1, 1, 1, 2, 2, 2, 1, 1)  1744.964  1655.453  3400.417\n",
      "125  (1, 2, 1, 1, 1, 1, 1, 1)  2043.330  1537.133  3580.463\n",
      "126  (1, 2, 1, 1, 1, 1, 2, 2)  1913.007  1558.053  3471.060\n",
      "127  (1, 2, 2, 2, 1, 2, 1, 2)  1596.512  1822.740  3419.252\n",
      "\n",
      "[128 rows x 4 columns]\n"
     ]
    }
   ],
   "source": [
    "import pandas as pd\n",
    "assignments = pd.read_csv(\"data/assignments.csv\", index_col=0)\n",
    "print(assignments)"
   ]
  },
  {
   "cell_type": "code",
   "execution_count": 4,
   "metadata": {},
   "outputs": [],
   "source": [
    "assignments.sort_values(by=\"assignments\", inplace=True)"
   ]
  },
  {
   "cell_type": "code",
   "execution_count": 6,
   "metadata": {},
   "outputs": [
    {
     "name": "stdout",
     "output_type": "stream",
     "text": [
      "                  assignments     week1     week2     total\n",
      "41   (1, 1, 1, 1, 1, 1, 1, 1)  1892.076  1539.599  3431.675\n",
      "5    (1, 1, 1, 1, 1, 1, 1, 2)  1903.656  1360.742  3264.398\n",
      "98   (1, 1, 1, 1, 1, 1, 2, 1)  1922.197  1493.128  3415.325\n",
      "121  (1, 1, 1, 1, 1, 1, 2, 2)  1812.830  1496.939  3309.769\n",
      "101  (1, 1, 1, 1, 1, 2, 1, 1)  1799.419  1489.704  3289.123\n",
      "..                        ...       ...       ...       ...\n",
      "8    (1, 2, 2, 2, 2, 1, 2, 2)  1807.835  1565.279  3373.114\n",
      "67   (1, 2, 2, 2, 2, 2, 1, 1)  1718.547  1671.253  3389.800\n",
      "71   (1, 2, 2, 2, 2, 2, 1, 2)  1622.120  1767.746  3389.866\n",
      "15   (1, 2, 2, 2, 2, 2, 2, 1)  1599.843  1797.032  3396.875\n",
      "110  (1, 2, 2, 2, 2, 2, 2, 2)  1658.513  1919.684  3578.197\n",
      "\n",
      "[128 rows x 4 columns]\n"
     ]
    }
   ],
   "source": [
    "print(assignments)"
   ]
  },
  {
   "cell_type": "markdown",
   "metadata": {},
   "source": [
    "## Créer la matrice de temps de trajets"
   ]
  },
  {
   "cell_type": "code",
   "execution_count": 2,
   "metadata": {},
   "outputs": [],
   "source": [
    "import pandas as pd \n",
    "import requests, json\n",
    "from tqdm import tqdm\n",
    "\n",
    "centres = pd.read_excel(\"data/centres.xlsx\")\n",
    "pdrs = pd.read_excel(\"data/points_de_ramasse.xlsx\")\n",
    "\n",
    "lats = centres[\"Latitude\"].to_list() + pdrs[\"Latitude\"].to_list()\n",
    "longs = centres[\"Longitude\"].to_list() + pdrs[\"Longitude\"].to_list()"
   ]
  },
  {
   "cell_type": "code",
   "execution_count": 6,
   "metadata": {},
   "outputs": [
    {
     "name": "stderr",
     "output_type": "stream",
     "text": [
      "100%|██████████| 35/35 [10:13<00:00, 17.52s/it]\n"
     ]
    }
   ],
   "source": [
    "url = 'http://router.project-osrm.org/route/v1/driving/'\n",
    "matrix = []\n",
    "for i in tqdm(range(len(lats))):\n",
    "    line = []\n",
    "    for j in range(len(longs)) :\n",
    "        o1 = str(longs[i]) +',' + str(lats[i])\n",
    "        o2 = str(longs[j]) +',' + str(lats[j])\n",
    "        x = o1 + ';' + o2\n",
    "        response = requests.get(url+x)\n",
    "        data = json.loads(response.content)\n",
    "        duration = data[\"routes\"][0][\"legs\"][0][\"duration\"]\n",
    "        line.append(duration)\n",
    "    matrix.append(line)"
   ]
  },
  {
   "cell_type": "code",
   "execution_count": 8,
   "metadata": {},
   "outputs": [],
   "source": [
    "names_centres = centres[\"Nom\"].tolist() + pdrs[\"Nom\"].tolist()\n",
    "matrix_df = pd.DataFrame(matrix, columns=names_centres, index=names_centres)\n",
    "matrix_df.to_excel(\"data/duration_matrix.xlsx\")\n",
    "matrix_df.to_csv(\"data/duration_matrix.csv\")"
   ]
  },
  {
   "cell_type": "markdown",
   "metadata": {},
   "source": [
    "## Créer la matrice de temps de trajet pour une heure spécifique (heure de pointe)"
   ]
  },
  {
   "cell_type": "code",
   "execution_count": 2,
   "metadata": {},
   "outputs": [],
   "source": [
    "import googlemaps\n",
    "import requests\n",
    "import pandas as pd\n",
    "\n",
    "api_key = open(\"api_key\", \"r\").read()\n",
    "gmaps = googlemaps.Client(key=api_key)"
   ]
  },
  {
   "cell_type": "code",
   "execution_count": 26,
   "metadata": {},
   "outputs": [
    {
     "name": "stderr",
     "output_type": "stream",
     "text": [
      "100%|██████████| 35/35 [05:27<00:00,  9.34s/it]\n"
     ]
    }
   ],
   "source": [
    "from tqdm import tqdm\n",
    "from time import time\n",
    "import datetime\n",
    "\n",
    "matrix = []\n",
    "df = pd.read_excel(\"data/centres.xlsx\")\n",
    "names_centres = df[\"Nom\"].tolist()\n",
    "adresses_centres = df[\"Adresse\"].tolist()\n",
    "pdr = pd.read_excel(\"data/points_de_ramasse.xlsx\")\n",
    "adresses_pdr = pdr[\"Adresse\"].tolist()\n",
    "adresses = adresses_centres + adresses_pdr\n",
    "\n",
    "peak_hour = int(datetime.datetime(2024, 2, 13, 8).timestamp())\n",
    "\n",
    "for i, a in tqdm(enumerate(adresses), total=len(adresses)):\n",
    "    matrix.append([])\n",
    "    for j, b in enumerate(adresses):\n",
    "        if i==j :\n",
    "            matrix[i].append(0)\n",
    "            continue\n",
    "        \n",
    "        results = gmaps.directions(a, b, alternatives=True, departure_time=peak_hour)\n",
    "        duration = min(res[\"legs\"][0][\"duration_in_traffic\"][\"value\"] for res in results)\n",
    "\n",
    "        matrix[i].append(duration)"
   ]
  },
  {
   "cell_type": "code",
   "execution_count": 28,
   "metadata": {},
   "outputs": [],
   "source": [
    "noms = df[\"Nom\"].tolist() + pdr[\"Nom\"].tolist()\n",
    "mat = pd.DataFrame(matrix, columns=noms, index=noms)\n",
    "mat.to_excel(\"data/duration_matrix_w_traffic.xlsx\")"
   ]
  }
 ],
 "metadata": {
  "kernelspec": {
   "display_name": "ortools",
   "language": "python",
   "name": "python3"
  },
  "language_info": {
   "codemirror_mode": {
    "name": "ipython",
    "version": 3
   },
   "file_extension": ".py",
   "mimetype": "text/x-python",
   "name": "python",
   "nbconvert_exporter": "python",
   "pygments_lexer": "ipython3",
   "version": "3.11.4"
  }
 },
 "nbformat": 4,
 "nbformat_minor": 2
}
