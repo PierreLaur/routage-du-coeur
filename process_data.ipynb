{
 "cells": [
  {
   "cell_type": "markdown",
   "metadata": {},
   "source": [
    "## Récupérer les coordonnées des centres de distribution"
   ]
  },
  {
   "cell_type": "code",
   "execution_count": 63,
   "metadata": {},
   "outputs": [],
   "source": [
    "import pandas as pd\n",
    "\n",
    "df = pd.read_excel(\"data/centres.xlsx\")"
   ]
  },
  {
   "cell_type": "code",
   "execution_count": 64,
   "metadata": {},
   "outputs": [],
   "source": [
    "names_centres = df[\"Nom\"].tolist()\n",
    "adresses_centres = df[\"Adresse\"].tolist()"
   ]
  },
  {
   "cell_type": "code",
   "execution_count": 65,
   "metadata": {},
   "outputs": [],
   "source": [
    "import requests\n",
    "\n",
    "api_key = open(\"api_key\", \"r\").read()"
   ]
  },
  {
   "cell_type": "code",
   "execution_count": 66,
   "metadata": {},
   "outputs": [],
   "source": [
    "def get_coords(addresses):\n",
    "    latitudes = []\n",
    "    longitudes = []\n",
    "\n",
    "    for address in addresses:\n",
    "        response = requests.get(\n",
    "            f\"https://maps.googleapis.com/maps/api/geocode/json?address={address}&key={api_key}\"\n",
    "        )\n",
    "        data = response.json()\n",
    "\n",
    "        if data[\"status\"] == \"OK\":\n",
    "            location = data[\"results\"][0][\"geometry\"][\"location\"]\n",
    "            latitudes.append(location[\"lat\"])\n",
    "            longitudes.append(location[\"lng\"])\n",
    "        else:\n",
    "            print(f\"Geocoding failed for address {address}. Status:\", data[\"status\"])\n",
    "    \n",
    "    return latitudes, longitudes"
   ]
  },
  {
   "cell_type": "code",
   "execution_count": 68,
   "metadata": {},
   "outputs": [],
   "source": [
    "\n",
    "latitudes, longitudes = get_coords(adresses_centres)"
   ]
  },
  {
   "cell_type": "code",
   "execution_count": 67,
   "metadata": {},
   "outputs": [],
   "source": [
    "# for n, lat, long in zip(names_centres, latitudes, longitudes) :\n",
    "#     print(    f\"{n} : {lat}, {long}\")"
   ]
  },
  {
   "cell_type": "code",
   "execution_count": 35,
   "metadata": {},
   "outputs": [],
   "source": [
    "# Add the latitudes as new columns into the original excel file\n",
    "df[\"Latitude\"] = latitudes\n",
    "df[\"Longitude\"] = longitudes"
   ]
  },
  {
   "cell_type": "code",
   "execution_count": 36,
   "metadata": {},
   "outputs": [],
   "source": [
    "df.to_excel(\"data/centres.xlsx\", index=False)"
   ]
  },
  {
   "cell_type": "markdown",
   "metadata": {},
   "source": [
    "## Récupérer les coordonnées des points de ramasse"
   ]
  },
  {
   "cell_type": "code",
   "execution_count": 70,
   "metadata": {},
   "outputs": [],
   "source": [
    "pdr = pd.read_excel(\"data/points_de_ramasse.xlsx\")"
   ]
  },
  {
   "cell_type": "code",
   "execution_count": 76,
   "metadata": {},
   "outputs": [],
   "source": [
    "adresses_pdr = pdr[\"Adresse\"].tolist()\n",
    "# latitudes, longitudes = get_coords(adresses)"
   ]
  },
  {
   "cell_type": "code",
   "execution_count": 11,
   "metadata": {},
   "outputs": [
    {
     "name": "stdout",
     "output_type": "stream",
     "text": [
      "43.6431035, 1.4160821\n",
      "43.6319261, 1.4843222\n",
      "43.5661466, 1.5171659\n",
      "43.5864191, 1.5776498\n",
      "43.644588, 1.3726111\n",
      "43.6666046, 1.514161\n",
      "43.5913663, 1.2960563\n"
     ]
    }
   ],
   "source": [
    "for lat, long in zip(latitudes, longitudes) :\n",
    "    print(    f\"{lat}, {long}\")"
   ]
  },
  {
   "cell_type": "code",
   "execution_count": 12,
   "metadata": {},
   "outputs": [],
   "source": [
    "pdr[\"Latitude\"] = latitudes\n",
    "pdr[\"Longitude\"] = longitudes\n",
    "pdr.to_excel(\"data/centres.xlsx\", sheet_name=\"Points de Ramasse\", index=False)"
   ]
  },
  {
   "cell_type": "markdown",
   "metadata": {},
   "source": [
    "## Créer la matrice de distances"
   ]
  },
  {
   "cell_type": "code",
   "execution_count": 72,
   "metadata": {},
   "outputs": [],
   "source": [
    "import googlemaps\n",
    "\n",
    "gmaps = googlemaps.Client(key=api_key)"
   ]
  },
  {
   "cell_type": "code",
   "execution_count": 77,
   "metadata": {},
   "outputs": [
    {
     "name": "stderr",
     "output_type": "stream",
     "text": [
      "100%|██████████| 36/36 [08:51<00:00, 14.78s/it]\n"
     ]
    }
   ],
   "source": [
    "from tqdm import tqdm\n",
    "\n",
    "matrix = []\n",
    "adresses = adresses_centres + adresses_pdr\n",
    "\n",
    "for i, a in tqdm(enumerate(adresses), total=len(adresses)):\n",
    "    matrix.append([])\n",
    "    for j, b in enumerate(adresses):\n",
    "        if i==j :\n",
    "            matrix[i].append(0)\n",
    "            continue\n",
    "        \n",
    "        results = gmaps.directions(a, b, alternatives=True,)\n",
    "        results += gmaps.directions(a, b, alternatives=True, avoid=\"highways\",)\n",
    "        results += gmaps.directions(a, b, alternatives=True, avoid=\"tolls\",)\n",
    "        results += gmaps.directions(a, b, alternatives=True, avoid=\"tolls|highways\",)\n",
    "        dist = min(\n",
    "            res[\"legs\"][0][\"distance\"][\"value\"] for res in results\n",
    "        )\n",
    "        matrix[i].append(dist)"
   ]
  },
  {
   "cell_type": "code",
   "execution_count": 78,
   "metadata": {},
   "outputs": [],
   "source": [
    "def make_euclidean(matrix):\n",
    "    corrections = 0\n",
    "    for i in range(len(matrix)):\n",
    "        for j in range(len(matrix)):\n",
    "            if j == i:\n",
    "                continue\n",
    "            for k in range(len(matrix)):\n",
    "                if k == i or k == j:\n",
    "                    continue\n",
    "                if matrix.iloc[i, j] + matrix.iloc[j, k] < matrix.iloc[i, k]:\n",
    "                    corrections += 1\n",
    "                    matrix.iloc[i, k] = matrix.iloc[i, j] + matrix.iloc[j, k]\n",
    "    print(\"Failures : \", corrections)"
   ]
  },
  {
   "cell_type": "code",
   "execution_count": 79,
   "metadata": {},
   "outputs": [
    {
     "name": "stdout",
     "output_type": "stream",
     "text": [
      "Failures :  610\n"
     ]
    }
   ],
   "source": [
    "noms = df[\"Nom\"].tolist() + pdr[\"Nom\"].tolist()\n",
    "mat = pd.DataFrame(matrix, columns=noms, index=noms)\n",
    "mat.to_excel(\"data/non_euclidean_matrix.xlsx\")\n",
    "make_euclidean(mat)\n",
    "mat.to_excel(\"data/euclidean_matrix.xlsx\")"
   ]
  }
 ],
 "metadata": {
  "kernelspec": {
   "display_name": "ortools",
   "language": "python",
   "name": "python3"
  },
  "language_info": {
   "codemirror_mode": {
    "name": "ipython",
    "version": 3
   },
   "file_extension": ".py",
   "mimetype": "text/x-python",
   "name": "python",
   "nbconvert_exporter": "python",
   "pygments_lexer": "ipython3",
   "version": "3.11.4"
  }
 },
 "nbformat": 4,
 "nbformat_minor": 2
}
