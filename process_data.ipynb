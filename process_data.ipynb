{
 "cells": [
  {
   "cell_type": "markdown",
   "metadata": {},
   "source": [
    "## Récupérer les coordonnées des centres de distribution"
   ]
  },
  {
   "cell_type": "code",
   "execution_count": 38,
   "metadata": {},
   "outputs": [],
   "source": [
    "import pandas as pd\n",
    "\n",
    "df = pd.read_excel(\"data/centres.xlsx\")"
   ]
  },
  {
   "cell_type": "code",
   "execution_count": 39,
   "metadata": {},
   "outputs": [],
   "source": [
    "names = df[\"Nom\"].tolist()\n",
    "adresses = df[\"Adresse\"].tolist()"
   ]
  },
  {
   "cell_type": "code",
   "execution_count": 40,
   "metadata": {},
   "outputs": [],
   "source": [
    "import requests\n",
    "\n",
    "api_key = open(\"api_key\", \"r\").read()"
   ]
  },
  {
   "cell_type": "code",
   "execution_count": 41,
   "metadata": {},
   "outputs": [],
   "source": [
    "def get_coords(addresses):\n",
    "    latitudes = []\n",
    "    longitudes = []\n",
    "\n",
    "    for address in addresses:\n",
    "        response = requests.get(\n",
    "            f\"https://maps.googleapis.com/maps/api/geocode/json?address={address}&key={api_key}\"\n",
    "        )\n",
    "        data = response.json()\n",
    "\n",
    "        if data[\"status\"] == \"OK\":\n",
    "            location = data[\"results\"][0][\"geometry\"][\"location\"]\n",
    "            latitudes.append(location[\"lat\"])\n",
    "            longitudes.append(location[\"lng\"])\n",
    "        else:\n",
    "            print(f\"Geocoding failed for address {address}. Status:\", data[\"status\"])\n",
    "    \n",
    "    return latitudes, longitudes"
   ]
  },
  {
   "cell_type": "code",
   "execution_count": 42,
   "metadata": {},
   "outputs": [],
   "source": [
    "\n",
    "latitudes, longitudes = get_coords(adresses)"
   ]
  },
  {
   "cell_type": "code",
   "execution_count": 43,
   "metadata": {},
   "outputs": [
    {
     "name": "stdout",
     "output_type": "stream",
     "text": [
      "Toulouse/Seminaire : 43.6391233, 1.4356993\n",
      "Auterive : 43.3518938, 1.479144\n",
      "Bagneres de Luchon : 42.7911527, 0.5881116\n",
      "Bessieres : 43.8006816, 1.6040233\n",
      "Blagnac : 43.6467573, 1.3867645\n",
      "Carbonne : 43.2971934, 1.2206374\n",
      "Cazeres : 43.2103963, 1.1059544\n",
      "Cugnaux : 43.5347748, 1.3502449\n",
      "Escalquens : 43.517648, 1.5575128\n",
      "Fenouillet : 43.6848225, 1.4029819\n",
      "Fonsorbes : 43.5389381, 1.2351879\n",
      "Fronton : 43.8381611, 1.3908275\n",
      "L Isle en Dodon : 43.376577, 0.8372039\n",
      "Leguevin : 43.599054, 1.236362\n",
      "Levignac : 43.66709549999999, 1.1934514\n",
      "Montrejeau : 43.0846413, 0.5626481\n",
      "Muret : 43.47820900000001, 1.341775\n",
      "Pibrac : 43.6218265, 1.2918542\n",
      "Plaisance du Touch : 43.567516, 1.3065979\n",
      "Portet sur Garonne : 43.5418696, 1.4085209\n",
      "Revel : 43.45654649999999, 2.0037021\n",
      "Rieumes : 43.4133038, 1.1190482\n",
      "Saint-Gaudens : 43.106199, 0.7262609\n",
      "Salies du Salat/Mane : 43.0834612, 0.9469247\n",
      "Toulouse/Grande-Bretagne(Casselardit) : 43.60352750000001, 1.4076353\n",
      "Toulouse/Malepere : 43.56513890000001, 1.5106988\n",
      "Toulouse/Negogousses(Les Arenes) : 43.5928408, 1.4113336\n",
      "Tournefeuille : 43.5771751, 1.3259272\n",
      "Villefranche de Lauragais : 43.40153, 1.7137495\n"
     ]
    }
   ],
   "source": [
    "for n, lat, long in zip(names, latitudes, longitudes) :\n",
    "    print(    f\"{n} : {lat}, {long}\")"
   ]
  },
  {
   "cell_type": "code",
   "execution_count": 35,
   "metadata": {},
   "outputs": [],
   "source": [
    "# Add the latitudes as new columns into the original excel file\n",
    "df[\"Latitude\"] = latitudes\n",
    "df[\"Longitude\"] = longitudes"
   ]
  },
  {
   "cell_type": "code",
   "execution_count": 36,
   "metadata": {},
   "outputs": [],
   "source": [
    "df.to_excel(\"data/centres.xlsx\", index=False)"
   ]
  },
  {
   "cell_type": "markdown",
   "metadata": {},
   "source": [
    "## Créer la matrice de distances"
   ]
  },
  {
   "cell_type": "code",
   "execution_count": 38,
   "metadata": {},
   "outputs": [],
   "source": [
    "import googlemaps\n",
    "\n",
    "gmaps = googlemaps.Client(key=api_key)"
   ]
  },
  {
   "cell_type": "code",
   "execution_count": 39,
   "metadata": {},
   "outputs": [
    {
     "name": "stderr",
     "output_type": "stream",
     "text": [
      "100%|██████████| 29/29 [00:45<00:00,  1.58s/it]\n"
     ]
    }
   ],
   "source": [
    "from tqdm import tqdm\n",
    "\n",
    "matrix = []\n",
    "\n",
    "for i, a in tqdm(enumerate(addresses), total=len(addresses)):\n",
    "    matrix.append([])\n",
    "    for j, b in enumerate(addresses):\n",
    "        res = gmaps.distance_matrix(a, b)\n",
    "        matrix[i].append(res[\"rows\"][0][\"elements\"][0][\"distance\"][\"value\"])"
   ]
  },
  {
   "cell_type": "code",
   "execution_count": 40,
   "metadata": {},
   "outputs": [],
   "source": [
    "mat = pd.DataFrame(matrix, columns=names, index=names)\n",
    "mat.to_excel(\"data/matrix.xlsx\")"
   ]
  },
  {
   "cell_type": "markdown",
   "metadata": {},
   "source": [
    "## Récupérer les coordonnées des points de ramasse"
   ]
  },
  {
   "cell_type": "code",
   "execution_count": 9,
   "metadata": {},
   "outputs": [
    {
     "name": "stdout",
     "output_type": "stream",
     "text": [
      "         Point de Ramasse                                            Adresse  \\\n",
      "0                   METRO     ZI la Glacière, 8 impasse Camo, 31018 Toulouse   \n",
      "1          Auchan Gramont                        Auchan Hypermarché Toulouse   \n",
      "2        Leclerc St Orens  5 All. des Champs Pinsons, 31650 Saint-Orens-d...   \n",
      "3        Super U Flourens  Impasse du Moussard, 826 Rte de Castres D, 311...   \n",
      "4         Leclerc Blagnac                   2 All. Emile Zola, 31715 Blagnac   \n",
      "5        Leclerc Rouffiac         RD, 888 Rte d'Albi, 31180 Rouffiac-Tolosan   \n",
      "6  Carrefour Supply Chain      1 Rue du Dr Charcot, 31830 Plaisance-du-Touch   \n",
      "\n",
      "   Latitude  Longitude  Fréquence de Ramasse  \n",
      "0       NaN        NaN                   NaN  \n",
      "1       NaN        NaN                   NaN  \n",
      "2       NaN        NaN                   NaN  \n",
      "3       NaN        NaN                   NaN  \n",
      "4       NaN        NaN                   NaN  \n",
      "5       NaN        NaN                   NaN  \n",
      "6       NaN        NaN                   NaN  \n"
     ]
    }
   ],
   "source": [
    "pdr = pd.read_excel(\"data/centres.xlsx\", sheet_name=\"Points de Ramasse\")\n",
    "print(pdr)"
   ]
  },
  {
   "cell_type": "code",
   "execution_count": 10,
   "metadata": {},
   "outputs": [],
   "source": [
    "adresses = pdr[\"Adresse\"]\n",
    "latitudes, longitudes = get_coords(adresses)"
   ]
  },
  {
   "cell_type": "code",
   "execution_count": 11,
   "metadata": {},
   "outputs": [
    {
     "name": "stdout",
     "output_type": "stream",
     "text": [
      "43.6431035, 1.4160821\n",
      "43.6319261, 1.4843222\n",
      "43.5661466, 1.5171659\n",
      "43.5864191, 1.5776498\n",
      "43.644588, 1.3726111\n",
      "43.6666046, 1.514161\n",
      "43.5913663, 1.2960563\n"
     ]
    }
   ],
   "source": [
    "for lat, long in zip(latitudes, longitudes) :\n",
    "    print(    f\"{lat}, {long}\")"
   ]
  },
  {
   "cell_type": "code",
   "execution_count": 12,
   "metadata": {},
   "outputs": [],
   "source": [
    "pdr[\"Latitude\"] = latitudes\n",
    "pdr[\"Longitude\"] = longitudes\n",
    "pdr.to_excel(\"data/centres.xlsx\", sheet_name=\"Points de Ramasse\", index=False)"
   ]
  },
  {
   "cell_type": "code",
   "execution_count": null,
   "metadata": {},
   "outputs": [],
   "source": []
  }
 ],
 "metadata": {
  "kernelspec": {
   "display_name": "ortools",
   "language": "python",
   "name": "python3"
  },
  "language_info": {
   "codemirror_mode": {
    "name": "ipython",
    "version": 3
   },
   "file_extension": ".py",
   "mimetype": "text/x-python",
   "name": "python",
   "nbconvert_exporter": "python",
   "pygments_lexer": "ipython3",
   "version": "3.11.4"
  }
 },
 "nbformat": 4,
 "nbformat_minor": 2
}
